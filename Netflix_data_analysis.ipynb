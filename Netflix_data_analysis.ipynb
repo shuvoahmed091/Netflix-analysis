{
  "nbformat": 4,
  "nbformat_minor": 0,
  "metadata": {
    "colab": {
      "provenance": [],
      "collapsed_sections": [],
      "authorship_tag": "ABX9TyOGu/g4rvo+0s14Xz0YK8k9",
      "include_colab_link": true
    },
    "kernelspec": {
      "name": "python3",
      "display_name": "Python 3"
    },
    "language_info": {
      "name": "python"
    }
  },
  "cells": [
    {
      "cell_type": "markdown",
      "metadata": {
        "id": "view-in-github",
        "colab_type": "text"
      },
      "source": [
        "<a href=\"https://colab.research.google.com/github/shuvoahmed091/Netflix-analysis/blob/main/Netflix_data_analysis.ipynb\" target=\"_parent\"><img src=\"https://colab.research.google.com/assets/colab-badge.svg\" alt=\"Open In Colab\"/></a>"
      ]
    },
    {
      "cell_type": "markdown",
      "source": [
        "Importing Libraries"
      ],
      "metadata": {
        "id": "xsIX0loK9D-f"
      }
    },
    {
      "cell_type": "code",
      "execution_count": 5,
      "metadata": {
        "id": "1lvfX3fk8xxJ"
      },
      "outputs": [],
      "source": [
        "import numpy as np \n",
        "import pandas as pd \n",
        "import os\n",
        "import seaborn as sns\n",
        "import matplotlib.pyplot as plt"
      ]
    },
    {
      "cell_type": "markdown",
      "source": [
        "Load the dataset in a dataframe"
      ],
      "metadata": {
        "id": "0qhHhBU49DWS"
      }
    },
    {
      "cell_type": "code",
      "source": [
        "df = pd.read_csv(\"/content/Netflix subscription fee Dec-2021.csv\")\n",
        "df.head()"
      ],
      "metadata": {
        "colab": {
          "base_uri": "https://localhost:8080/",
          "height": 267
        },
        "id": "KAY-2B8g9OGG",
        "outputId": "315fa328-2c8d-4a8f-f728-b6247fb9bf53"
      },
      "execution_count": 14,
      "outputs": [
        {
          "output_type": "execute_result",
          "data": {
            "text/plain": [
              "  Country_code    Country  Total Library Size  No. of TV Shows  No. of Movies  \\\n",
              "0           ar  Argentina                4760             3154           1606   \n",
              "1           au  Australia                6114             4050           2064   \n",
              "2           at    Austria                5640             3779           1861   \n",
              "3           be    Belgium                4990             3374           1616   \n",
              "4           bo    Bolivia                4991             3155           1836   \n",
              "\n",
              "   Cost Per Month - Basic ($)  Cost Per Month - Standard ($)  \\\n",
              "0                        3.74                           6.30   \n",
              "1                        7.84                          12.12   \n",
              "2                        9.03                          14.67   \n",
              "3                       10.16                          15.24   \n",
              "4                        7.99                          10.99   \n",
              "\n",
              "   Cost Per Month - Premium ($)  \n",
              "0                          9.26  \n",
              "1                         16.39  \n",
              "2                         20.32  \n",
              "3                         20.32  \n",
              "4                         13.99  "
            ],
            "text/html": [
              "\n",
              "  <div id=\"df-c5d3f531-50d1-4ffb-a71a-48847f14b053\">\n",
              "    <div class=\"colab-df-container\">\n",
              "      <div>\n",
              "<style scoped>\n",
              "    .dataframe tbody tr th:only-of-type {\n",
              "        vertical-align: middle;\n",
              "    }\n",
              "\n",
              "    .dataframe tbody tr th {\n",
              "        vertical-align: top;\n",
              "    }\n",
              "\n",
              "    .dataframe thead th {\n",
              "        text-align: right;\n",
              "    }\n",
              "</style>\n",
              "<table border=\"1\" class=\"dataframe\">\n",
              "  <thead>\n",
              "    <tr style=\"text-align: right;\">\n",
              "      <th></th>\n",
              "      <th>Country_code</th>\n",
              "      <th>Country</th>\n",
              "      <th>Total Library Size</th>\n",
              "      <th>No. of TV Shows</th>\n",
              "      <th>No. of Movies</th>\n",
              "      <th>Cost Per Month - Basic ($)</th>\n",
              "      <th>Cost Per Month - Standard ($)</th>\n",
              "      <th>Cost Per Month - Premium ($)</th>\n",
              "    </tr>\n",
              "  </thead>\n",
              "  <tbody>\n",
              "    <tr>\n",
              "      <th>0</th>\n",
              "      <td>ar</td>\n",
              "      <td>Argentina</td>\n",
              "      <td>4760</td>\n",
              "      <td>3154</td>\n",
              "      <td>1606</td>\n",
              "      <td>3.74</td>\n",
              "      <td>6.30</td>\n",
              "      <td>9.26</td>\n",
              "    </tr>\n",
              "    <tr>\n",
              "      <th>1</th>\n",
              "      <td>au</td>\n",
              "      <td>Australia</td>\n",
              "      <td>6114</td>\n",
              "      <td>4050</td>\n",
              "      <td>2064</td>\n",
              "      <td>7.84</td>\n",
              "      <td>12.12</td>\n",
              "      <td>16.39</td>\n",
              "    </tr>\n",
              "    <tr>\n",
              "      <th>2</th>\n",
              "      <td>at</td>\n",
              "      <td>Austria</td>\n",
              "      <td>5640</td>\n",
              "      <td>3779</td>\n",
              "      <td>1861</td>\n",
              "      <td>9.03</td>\n",
              "      <td>14.67</td>\n",
              "      <td>20.32</td>\n",
              "    </tr>\n",
              "    <tr>\n",
              "      <th>3</th>\n",
              "      <td>be</td>\n",
              "      <td>Belgium</td>\n",
              "      <td>4990</td>\n",
              "      <td>3374</td>\n",
              "      <td>1616</td>\n",
              "      <td>10.16</td>\n",
              "      <td>15.24</td>\n",
              "      <td>20.32</td>\n",
              "    </tr>\n",
              "    <tr>\n",
              "      <th>4</th>\n",
              "      <td>bo</td>\n",
              "      <td>Bolivia</td>\n",
              "      <td>4991</td>\n",
              "      <td>3155</td>\n",
              "      <td>1836</td>\n",
              "      <td>7.99</td>\n",
              "      <td>10.99</td>\n",
              "      <td>13.99</td>\n",
              "    </tr>\n",
              "  </tbody>\n",
              "</table>\n",
              "</div>\n",
              "      <button class=\"colab-df-convert\" onclick=\"convertToInteractive('df-c5d3f531-50d1-4ffb-a71a-48847f14b053')\"\n",
              "              title=\"Convert this dataframe to an interactive table.\"\n",
              "              style=\"display:none;\">\n",
              "        \n",
              "  <svg xmlns=\"http://www.w3.org/2000/svg\" height=\"24px\"viewBox=\"0 0 24 24\"\n",
              "       width=\"24px\">\n",
              "    <path d=\"M0 0h24v24H0V0z\" fill=\"none\"/>\n",
              "    <path d=\"M18.56 5.44l.94 2.06.94-2.06 2.06-.94-2.06-.94-.94-2.06-.94 2.06-2.06.94zm-11 1L8.5 8.5l.94-2.06 2.06-.94-2.06-.94L8.5 2.5l-.94 2.06-2.06.94zm10 10l.94 2.06.94-2.06 2.06-.94-2.06-.94-.94-2.06-.94 2.06-2.06.94z\"/><path d=\"M17.41 7.96l-1.37-1.37c-.4-.4-.92-.59-1.43-.59-.52 0-1.04.2-1.43.59L10.3 9.45l-7.72 7.72c-.78.78-.78 2.05 0 2.83L4 21.41c.39.39.9.59 1.41.59.51 0 1.02-.2 1.41-.59l7.78-7.78 2.81-2.81c.8-.78.8-2.07 0-2.86zM5.41 20L4 18.59l7.72-7.72 1.47 1.35L5.41 20z\"/>\n",
              "  </svg>\n",
              "      </button>\n",
              "      \n",
              "  <style>\n",
              "    .colab-df-container {\n",
              "      display:flex;\n",
              "      flex-wrap:wrap;\n",
              "      gap: 12px;\n",
              "    }\n",
              "\n",
              "    .colab-df-convert {\n",
              "      background-color: #E8F0FE;\n",
              "      border: none;\n",
              "      border-radius: 50%;\n",
              "      cursor: pointer;\n",
              "      display: none;\n",
              "      fill: #1967D2;\n",
              "      height: 32px;\n",
              "      padding: 0 0 0 0;\n",
              "      width: 32px;\n",
              "    }\n",
              "\n",
              "    .colab-df-convert:hover {\n",
              "      background-color: #E2EBFA;\n",
              "      box-shadow: 0px 1px 2px rgba(60, 64, 67, 0.3), 0px 1px 3px 1px rgba(60, 64, 67, 0.15);\n",
              "      fill: #174EA6;\n",
              "    }\n",
              "\n",
              "    [theme=dark] .colab-df-convert {\n",
              "      background-color: #3B4455;\n",
              "      fill: #D2E3FC;\n",
              "    }\n",
              "\n",
              "    [theme=dark] .colab-df-convert:hover {\n",
              "      background-color: #434B5C;\n",
              "      box-shadow: 0px 1px 3px 1px rgba(0, 0, 0, 0.15);\n",
              "      filter: drop-shadow(0px 1px 2px rgba(0, 0, 0, 0.3));\n",
              "      fill: #FFFFFF;\n",
              "    }\n",
              "  </style>\n",
              "\n",
              "      <script>\n",
              "        const buttonEl =\n",
              "          document.querySelector('#df-c5d3f531-50d1-4ffb-a71a-48847f14b053 button.colab-df-convert');\n",
              "        buttonEl.style.display =\n",
              "          google.colab.kernel.accessAllowed ? 'block' : 'none';\n",
              "\n",
              "        async function convertToInteractive(key) {\n",
              "          const element = document.querySelector('#df-c5d3f531-50d1-4ffb-a71a-48847f14b053');\n",
              "          const dataTable =\n",
              "            await google.colab.kernel.invokeFunction('convertToInteractive',\n",
              "                                                     [key], {});\n",
              "          if (!dataTable) return;\n",
              "\n",
              "          const docLinkHtml = 'Like what you see? Visit the ' +\n",
              "            '<a target=\"_blank\" href=https://colab.research.google.com/notebooks/data_table.ipynb>data table notebook</a>'\n",
              "            + ' to learn more about interactive tables.';\n",
              "          element.innerHTML = '';\n",
              "          dataTable['output_type'] = 'display_data';\n",
              "          await google.colab.output.renderOutput(dataTable, element);\n",
              "          const docLink = document.createElement('div');\n",
              "          docLink.innerHTML = docLinkHtml;\n",
              "          element.appendChild(docLink);\n",
              "        }\n",
              "      </script>\n",
              "    </div>\n",
              "  </div>\n",
              "  "
            ]
          },
          "metadata": {},
          "execution_count": 14
        }
      ]
    },
    {
      "cell_type": "code",
      "source": [
        "df.tail(10)"
      ],
      "metadata": {
        "colab": {
          "base_uri": "https://localhost:8080/",
          "height": 441
        },
        "id": "tJQ-BqzZ-0tl",
        "outputId": "d697081b-5785-431f-b1f6-3147685963cf"
      },
      "execution_count": 16,
      "outputs": [
        {
          "output_type": "execute_result",
          "data": {
            "text/plain": [
              "   Country_code         Country  Total Library Size  No. of TV Shows  \\\n",
              "55           se          Sweden                4361             2973   \n",
              "56           ch     Switzerland                5506             3654   \n",
              "57           tw          Taiwan                5105             3134   \n",
              "58           th        Thailand                4948             2977   \n",
              "59           tr          Turkey                4639             2930   \n",
              "60           ua         Ukraine                5336             3261   \n",
              "61           gb  United Kingdom                6643             4551   \n",
              "62           us   United States                5818             3826   \n",
              "63           uy         Uruguay                4989             3154   \n",
              "64           ve       Venezuela                4797             3154   \n",
              "\n",
              "    No. of Movies  Cost Per Month - Basic ($)  Cost Per Month - Standard ($)  \\\n",
              "55           1388                       10.90                          14.20   \n",
              "56           1852                       12.88                          20.46   \n",
              "57           1971                        9.74                          11.90   \n",
              "58           1971                        8.34                          10.43   \n",
              "59           1709                        1.97                           3.00   \n",
              "60           2075                        5.64                           8.46   \n",
              "61           2092                        7.91                          13.20   \n",
              "62           1992                        8.99                          13.99   \n",
              "63           1835                        8.99                          12.99   \n",
              "64           1643                        7.99                          10.99   \n",
              "\n",
              "    Cost Per Month - Premium ($)  \n",
              "55                         19.70  \n",
              "56                         26.96  \n",
              "57                         14.07  \n",
              "58                         12.52  \n",
              "59                          4.02  \n",
              "60                         11.29  \n",
              "61                         18.48  \n",
              "62                         17.99  \n",
              "63                         15.99  \n",
              "64                         13.99  "
            ],
            "text/html": [
              "\n",
              "  <div id=\"df-e49ea4a4-7f24-46b8-ba8e-9074aa9805a8\">\n",
              "    <div class=\"colab-df-container\">\n",
              "      <div>\n",
              "<style scoped>\n",
              "    .dataframe tbody tr th:only-of-type {\n",
              "        vertical-align: middle;\n",
              "    }\n",
              "\n",
              "    .dataframe tbody tr th {\n",
              "        vertical-align: top;\n",
              "    }\n",
              "\n",
              "    .dataframe thead th {\n",
              "        text-align: right;\n",
              "    }\n",
              "</style>\n",
              "<table border=\"1\" class=\"dataframe\">\n",
              "  <thead>\n",
              "    <tr style=\"text-align: right;\">\n",
              "      <th></th>\n",
              "      <th>Country_code</th>\n",
              "      <th>Country</th>\n",
              "      <th>Total Library Size</th>\n",
              "      <th>No. of TV Shows</th>\n",
              "      <th>No. of Movies</th>\n",
              "      <th>Cost Per Month - Basic ($)</th>\n",
              "      <th>Cost Per Month - Standard ($)</th>\n",
              "      <th>Cost Per Month - Premium ($)</th>\n",
              "    </tr>\n",
              "  </thead>\n",
              "  <tbody>\n",
              "    <tr>\n",
              "      <th>55</th>\n",
              "      <td>se</td>\n",
              "      <td>Sweden</td>\n",
              "      <td>4361</td>\n",
              "      <td>2973</td>\n",
              "      <td>1388</td>\n",
              "      <td>10.90</td>\n",
              "      <td>14.20</td>\n",
              "      <td>19.70</td>\n",
              "    </tr>\n",
              "    <tr>\n",
              "      <th>56</th>\n",
              "      <td>ch</td>\n",
              "      <td>Switzerland</td>\n",
              "      <td>5506</td>\n",
              "      <td>3654</td>\n",
              "      <td>1852</td>\n",
              "      <td>12.88</td>\n",
              "      <td>20.46</td>\n",
              "      <td>26.96</td>\n",
              "    </tr>\n",
              "    <tr>\n",
              "      <th>57</th>\n",
              "      <td>tw</td>\n",
              "      <td>Taiwan</td>\n",
              "      <td>5105</td>\n",
              "      <td>3134</td>\n",
              "      <td>1971</td>\n",
              "      <td>9.74</td>\n",
              "      <td>11.90</td>\n",
              "      <td>14.07</td>\n",
              "    </tr>\n",
              "    <tr>\n",
              "      <th>58</th>\n",
              "      <td>th</td>\n",
              "      <td>Thailand</td>\n",
              "      <td>4948</td>\n",
              "      <td>2977</td>\n",
              "      <td>1971</td>\n",
              "      <td>8.34</td>\n",
              "      <td>10.43</td>\n",
              "      <td>12.52</td>\n",
              "    </tr>\n",
              "    <tr>\n",
              "      <th>59</th>\n",
              "      <td>tr</td>\n",
              "      <td>Turkey</td>\n",
              "      <td>4639</td>\n",
              "      <td>2930</td>\n",
              "      <td>1709</td>\n",
              "      <td>1.97</td>\n",
              "      <td>3.00</td>\n",
              "      <td>4.02</td>\n",
              "    </tr>\n",
              "    <tr>\n",
              "      <th>60</th>\n",
              "      <td>ua</td>\n",
              "      <td>Ukraine</td>\n",
              "      <td>5336</td>\n",
              "      <td>3261</td>\n",
              "      <td>2075</td>\n",
              "      <td>5.64</td>\n",
              "      <td>8.46</td>\n",
              "      <td>11.29</td>\n",
              "    </tr>\n",
              "    <tr>\n",
              "      <th>61</th>\n",
              "      <td>gb</td>\n",
              "      <td>United Kingdom</td>\n",
              "      <td>6643</td>\n",
              "      <td>4551</td>\n",
              "      <td>2092</td>\n",
              "      <td>7.91</td>\n",
              "      <td>13.20</td>\n",
              "      <td>18.48</td>\n",
              "    </tr>\n",
              "    <tr>\n",
              "      <th>62</th>\n",
              "      <td>us</td>\n",
              "      <td>United States</td>\n",
              "      <td>5818</td>\n",
              "      <td>3826</td>\n",
              "      <td>1992</td>\n",
              "      <td>8.99</td>\n",
              "      <td>13.99</td>\n",
              "      <td>17.99</td>\n",
              "    </tr>\n",
              "    <tr>\n",
              "      <th>63</th>\n",
              "      <td>uy</td>\n",
              "      <td>Uruguay</td>\n",
              "      <td>4989</td>\n",
              "      <td>3154</td>\n",
              "      <td>1835</td>\n",
              "      <td>8.99</td>\n",
              "      <td>12.99</td>\n",
              "      <td>15.99</td>\n",
              "    </tr>\n",
              "    <tr>\n",
              "      <th>64</th>\n",
              "      <td>ve</td>\n",
              "      <td>Venezuela</td>\n",
              "      <td>4797</td>\n",
              "      <td>3154</td>\n",
              "      <td>1643</td>\n",
              "      <td>7.99</td>\n",
              "      <td>10.99</td>\n",
              "      <td>13.99</td>\n",
              "    </tr>\n",
              "  </tbody>\n",
              "</table>\n",
              "</div>\n",
              "      <button class=\"colab-df-convert\" onclick=\"convertToInteractive('df-e49ea4a4-7f24-46b8-ba8e-9074aa9805a8')\"\n",
              "              title=\"Convert this dataframe to an interactive table.\"\n",
              "              style=\"display:none;\">\n",
              "        \n",
              "  <svg xmlns=\"http://www.w3.org/2000/svg\" height=\"24px\"viewBox=\"0 0 24 24\"\n",
              "       width=\"24px\">\n",
              "    <path d=\"M0 0h24v24H0V0z\" fill=\"none\"/>\n",
              "    <path d=\"M18.56 5.44l.94 2.06.94-2.06 2.06-.94-2.06-.94-.94-2.06-.94 2.06-2.06.94zm-11 1L8.5 8.5l.94-2.06 2.06-.94-2.06-.94L8.5 2.5l-.94 2.06-2.06.94zm10 10l.94 2.06.94-2.06 2.06-.94-2.06-.94-.94-2.06-.94 2.06-2.06.94z\"/><path d=\"M17.41 7.96l-1.37-1.37c-.4-.4-.92-.59-1.43-.59-.52 0-1.04.2-1.43.59L10.3 9.45l-7.72 7.72c-.78.78-.78 2.05 0 2.83L4 21.41c.39.39.9.59 1.41.59.51 0 1.02-.2 1.41-.59l7.78-7.78 2.81-2.81c.8-.78.8-2.07 0-2.86zM5.41 20L4 18.59l7.72-7.72 1.47 1.35L5.41 20z\"/>\n",
              "  </svg>\n",
              "      </button>\n",
              "      \n",
              "  <style>\n",
              "    .colab-df-container {\n",
              "      display:flex;\n",
              "      flex-wrap:wrap;\n",
              "      gap: 12px;\n",
              "    }\n",
              "\n",
              "    .colab-df-convert {\n",
              "      background-color: #E8F0FE;\n",
              "      border: none;\n",
              "      border-radius: 50%;\n",
              "      cursor: pointer;\n",
              "      display: none;\n",
              "      fill: #1967D2;\n",
              "      height: 32px;\n",
              "      padding: 0 0 0 0;\n",
              "      width: 32px;\n",
              "    }\n",
              "\n",
              "    .colab-df-convert:hover {\n",
              "      background-color: #E2EBFA;\n",
              "      box-shadow: 0px 1px 2px rgba(60, 64, 67, 0.3), 0px 1px 3px 1px rgba(60, 64, 67, 0.15);\n",
              "      fill: #174EA6;\n",
              "    }\n",
              "\n",
              "    [theme=dark] .colab-df-convert {\n",
              "      background-color: #3B4455;\n",
              "      fill: #D2E3FC;\n",
              "    }\n",
              "\n",
              "    [theme=dark] .colab-df-convert:hover {\n",
              "      background-color: #434B5C;\n",
              "      box-shadow: 0px 1px 3px 1px rgba(0, 0, 0, 0.15);\n",
              "      filter: drop-shadow(0px 1px 2px rgba(0, 0, 0, 0.3));\n",
              "      fill: #FFFFFF;\n",
              "    }\n",
              "  </style>\n",
              "\n",
              "      <script>\n",
              "        const buttonEl =\n",
              "          document.querySelector('#df-e49ea4a4-7f24-46b8-ba8e-9074aa9805a8 button.colab-df-convert');\n",
              "        buttonEl.style.display =\n",
              "          google.colab.kernel.accessAllowed ? 'block' : 'none';\n",
              "\n",
              "        async function convertToInteractive(key) {\n",
              "          const element = document.querySelector('#df-e49ea4a4-7f24-46b8-ba8e-9074aa9805a8');\n",
              "          const dataTable =\n",
              "            await google.colab.kernel.invokeFunction('convertToInteractive',\n",
              "                                                     [key], {});\n",
              "          if (!dataTable) return;\n",
              "\n",
              "          const docLinkHtml = 'Like what you see? Visit the ' +\n",
              "            '<a target=\"_blank\" href=https://colab.research.google.com/notebooks/data_table.ipynb>data table notebook</a>'\n",
              "            + ' to learn more about interactive tables.';\n",
              "          element.innerHTML = '';\n",
              "          dataTable['output_type'] = 'display_data';\n",
              "          await google.colab.output.renderOutput(dataTable, element);\n",
              "          const docLink = document.createElement('div');\n",
              "          docLink.innerHTML = docLinkHtml;\n",
              "          element.appendChild(docLink);\n",
              "        }\n",
              "      </script>\n",
              "    </div>\n",
              "  </div>\n",
              "  "
            ]
          },
          "metadata": {},
          "execution_count": 16
        }
      ]
    },
    {
      "cell_type": "code",
      "source": [
        "df.describe()"
      ],
      "metadata": {
        "colab": {
          "base_uri": "https://localhost:8080/",
          "height": 344
        },
        "id": "DnjON81x_fK3",
        "outputId": "037972a7-26ad-4b73-d34e-a1eff763c71f"
      },
      "execution_count": 17,
      "outputs": [
        {
          "output_type": "execute_result",
          "data": {
            "text/plain": [
              "       Total Library Size  No. of TV Shows  No. of Movies  \\\n",
              "count           65.000000        65.000000      65.000000   \n",
              "mean          5314.415385      3518.953846    1795.461538   \n",
              "std            980.322633       723.010556     327.279748   \n",
              "min           2274.000000      1675.000000     373.000000   \n",
              "25%           4948.000000      3154.000000    1628.000000   \n",
              "50%           5195.000000      3512.000000    1841.000000   \n",
              "75%           5952.000000      3832.000000    1980.000000   \n",
              "max           7325.000000      5234.000000    2387.000000   \n",
              "\n",
              "       Cost Per Month - Basic ($)  Cost Per Month - Standard ($)  \\\n",
              "count                   65.000000                      65.000000   \n",
              "mean                     8.368462                      11.990000   \n",
              "std                      1.937819                       2.863979   \n",
              "min                      1.970000                       3.000000   \n",
              "25%                      7.990000                      10.710000   \n",
              "50%                      8.990000                      11.490000   \n",
              "75%                      9.030000                      13.540000   \n",
              "max                     12.880000                      20.460000   \n",
              "\n",
              "       Cost Per Month - Premium ($)  \n",
              "count                     65.000000  \n",
              "mean                      15.612923  \n",
              "std                        4.040672  \n",
              "min                        4.020000  \n",
              "25%                       13.540000  \n",
              "50%                       14.450000  \n",
              "75%                       18.060000  \n",
              "max                       26.960000  "
            ],
            "text/html": [
              "\n",
              "  <div id=\"df-3b4aeb10-78ad-4821-8254-18da90957e2a\">\n",
              "    <div class=\"colab-df-container\">\n",
              "      <div>\n",
              "<style scoped>\n",
              "    .dataframe tbody tr th:only-of-type {\n",
              "        vertical-align: middle;\n",
              "    }\n",
              "\n",
              "    .dataframe tbody tr th {\n",
              "        vertical-align: top;\n",
              "    }\n",
              "\n",
              "    .dataframe thead th {\n",
              "        text-align: right;\n",
              "    }\n",
              "</style>\n",
              "<table border=\"1\" class=\"dataframe\">\n",
              "  <thead>\n",
              "    <tr style=\"text-align: right;\">\n",
              "      <th></th>\n",
              "      <th>Total Library Size</th>\n",
              "      <th>No. of TV Shows</th>\n",
              "      <th>No. of Movies</th>\n",
              "      <th>Cost Per Month - Basic ($)</th>\n",
              "      <th>Cost Per Month - Standard ($)</th>\n",
              "      <th>Cost Per Month - Premium ($)</th>\n",
              "    </tr>\n",
              "  </thead>\n",
              "  <tbody>\n",
              "    <tr>\n",
              "      <th>count</th>\n",
              "      <td>65.000000</td>\n",
              "      <td>65.000000</td>\n",
              "      <td>65.000000</td>\n",
              "      <td>65.000000</td>\n",
              "      <td>65.000000</td>\n",
              "      <td>65.000000</td>\n",
              "    </tr>\n",
              "    <tr>\n",
              "      <th>mean</th>\n",
              "      <td>5314.415385</td>\n",
              "      <td>3518.953846</td>\n",
              "      <td>1795.461538</td>\n",
              "      <td>8.368462</td>\n",
              "      <td>11.990000</td>\n",
              "      <td>15.612923</td>\n",
              "    </tr>\n",
              "    <tr>\n",
              "      <th>std</th>\n",
              "      <td>980.322633</td>\n",
              "      <td>723.010556</td>\n",
              "      <td>327.279748</td>\n",
              "      <td>1.937819</td>\n",
              "      <td>2.863979</td>\n",
              "      <td>4.040672</td>\n",
              "    </tr>\n",
              "    <tr>\n",
              "      <th>min</th>\n",
              "      <td>2274.000000</td>\n",
              "      <td>1675.000000</td>\n",
              "      <td>373.000000</td>\n",
              "      <td>1.970000</td>\n",
              "      <td>3.000000</td>\n",
              "      <td>4.020000</td>\n",
              "    </tr>\n",
              "    <tr>\n",
              "      <th>25%</th>\n",
              "      <td>4948.000000</td>\n",
              "      <td>3154.000000</td>\n",
              "      <td>1628.000000</td>\n",
              "      <td>7.990000</td>\n",
              "      <td>10.710000</td>\n",
              "      <td>13.540000</td>\n",
              "    </tr>\n",
              "    <tr>\n",
              "      <th>50%</th>\n",
              "      <td>5195.000000</td>\n",
              "      <td>3512.000000</td>\n",
              "      <td>1841.000000</td>\n",
              "      <td>8.990000</td>\n",
              "      <td>11.490000</td>\n",
              "      <td>14.450000</td>\n",
              "    </tr>\n",
              "    <tr>\n",
              "      <th>75%</th>\n",
              "      <td>5952.000000</td>\n",
              "      <td>3832.000000</td>\n",
              "      <td>1980.000000</td>\n",
              "      <td>9.030000</td>\n",
              "      <td>13.540000</td>\n",
              "      <td>18.060000</td>\n",
              "    </tr>\n",
              "    <tr>\n",
              "      <th>max</th>\n",
              "      <td>7325.000000</td>\n",
              "      <td>5234.000000</td>\n",
              "      <td>2387.000000</td>\n",
              "      <td>12.880000</td>\n",
              "      <td>20.460000</td>\n",
              "      <td>26.960000</td>\n",
              "    </tr>\n",
              "  </tbody>\n",
              "</table>\n",
              "</div>\n",
              "      <button class=\"colab-df-convert\" onclick=\"convertToInteractive('df-3b4aeb10-78ad-4821-8254-18da90957e2a')\"\n",
              "              title=\"Convert this dataframe to an interactive table.\"\n",
              "              style=\"display:none;\">\n",
              "        \n",
              "  <svg xmlns=\"http://www.w3.org/2000/svg\" height=\"24px\"viewBox=\"0 0 24 24\"\n",
              "       width=\"24px\">\n",
              "    <path d=\"M0 0h24v24H0V0z\" fill=\"none\"/>\n",
              "    <path d=\"M18.56 5.44l.94 2.06.94-2.06 2.06-.94-2.06-.94-.94-2.06-.94 2.06-2.06.94zm-11 1L8.5 8.5l.94-2.06 2.06-.94-2.06-.94L8.5 2.5l-.94 2.06-2.06.94zm10 10l.94 2.06.94-2.06 2.06-.94-2.06-.94-.94-2.06-.94 2.06-2.06.94z\"/><path d=\"M17.41 7.96l-1.37-1.37c-.4-.4-.92-.59-1.43-.59-.52 0-1.04.2-1.43.59L10.3 9.45l-7.72 7.72c-.78.78-.78 2.05 0 2.83L4 21.41c.39.39.9.59 1.41.59.51 0 1.02-.2 1.41-.59l7.78-7.78 2.81-2.81c.8-.78.8-2.07 0-2.86zM5.41 20L4 18.59l7.72-7.72 1.47 1.35L5.41 20z\"/>\n",
              "  </svg>\n",
              "      </button>\n",
              "      \n",
              "  <style>\n",
              "    .colab-df-container {\n",
              "      display:flex;\n",
              "      flex-wrap:wrap;\n",
              "      gap: 12px;\n",
              "    }\n",
              "\n",
              "    .colab-df-convert {\n",
              "      background-color: #E8F0FE;\n",
              "      border: none;\n",
              "      border-radius: 50%;\n",
              "      cursor: pointer;\n",
              "      display: none;\n",
              "      fill: #1967D2;\n",
              "      height: 32px;\n",
              "      padding: 0 0 0 0;\n",
              "      width: 32px;\n",
              "    }\n",
              "\n",
              "    .colab-df-convert:hover {\n",
              "      background-color: #E2EBFA;\n",
              "      box-shadow: 0px 1px 2px rgba(60, 64, 67, 0.3), 0px 1px 3px 1px rgba(60, 64, 67, 0.15);\n",
              "      fill: #174EA6;\n",
              "    }\n",
              "\n",
              "    [theme=dark] .colab-df-convert {\n",
              "      background-color: #3B4455;\n",
              "      fill: #D2E3FC;\n",
              "    }\n",
              "\n",
              "    [theme=dark] .colab-df-convert:hover {\n",
              "      background-color: #434B5C;\n",
              "      box-shadow: 0px 1px 3px 1px rgba(0, 0, 0, 0.15);\n",
              "      filter: drop-shadow(0px 1px 2px rgba(0, 0, 0, 0.3));\n",
              "      fill: #FFFFFF;\n",
              "    }\n",
              "  </style>\n",
              "\n",
              "      <script>\n",
              "        const buttonEl =\n",
              "          document.querySelector('#df-3b4aeb10-78ad-4821-8254-18da90957e2a button.colab-df-convert');\n",
              "        buttonEl.style.display =\n",
              "          google.colab.kernel.accessAllowed ? 'block' : 'none';\n",
              "\n",
              "        async function convertToInteractive(key) {\n",
              "          const element = document.querySelector('#df-3b4aeb10-78ad-4821-8254-18da90957e2a');\n",
              "          const dataTable =\n",
              "            await google.colab.kernel.invokeFunction('convertToInteractive',\n",
              "                                                     [key], {});\n",
              "          if (!dataTable) return;\n",
              "\n",
              "          const docLinkHtml = 'Like what you see? Visit the ' +\n",
              "            '<a target=\"_blank\" href=https://colab.research.google.com/notebooks/data_table.ipynb>data table notebook</a>'\n",
              "            + ' to learn more about interactive tables.';\n",
              "          element.innerHTML = '';\n",
              "          dataTable['output_type'] = 'display_data';\n",
              "          await google.colab.output.renderOutput(dataTable, element);\n",
              "          const docLink = document.createElement('div');\n",
              "          docLink.innerHTML = docLinkHtml;\n",
              "          element.appendChild(docLink);\n",
              "        }\n",
              "      </script>\n",
              "    </div>\n",
              "  </div>\n",
              "  "
            ]
          },
          "metadata": {},
          "execution_count": 17
        }
      ]
    },
    {
      "cell_type": "markdown",
      "source": [
        "Columns: "
      ],
      "metadata": {
        "id": "292wkEDcAKDO"
      }
    },
    {
      "cell_type": "code",
      "source": [
        "df.columns"
      ],
      "metadata": {
        "colab": {
          "base_uri": "https://localhost:8080/"
        },
        "id": "MtIaH_YoAIkj",
        "outputId": "7b549568-040c-4ece-8323-e49fe8ecd58a"
      },
      "execution_count": 20,
      "outputs": [
        {
          "output_type": "execute_result",
          "data": {
            "text/plain": [
              "Index(['Country_code', 'Country', 'Total Library Size', 'No. of TV Shows',\n",
              "       'No. of Movies', 'Cost Per Month - Basic ($)',\n",
              "       'Cost Per Month - Standard ($)', 'Cost Per Month - Premium ($)'],\n",
              "      dtype='object')"
            ]
          },
          "metadata": {},
          "execution_count": 20
        }
      ]
    },
    {
      "cell_type": "markdown",
      "source": [
        "Checking Null Data"
      ],
      "metadata": {
        "id": "Zoa2hvfPA-nS"
      }
    },
    {
      "cell_type": "code",
      "source": [
        "df.columns[df.isnull().any()]"
      ],
      "metadata": {
        "colab": {
          "base_uri": "https://localhost:8080/"
        },
        "id": "UkJ2SHnJA-Uc",
        "outputId": "a9cd44bf-743f-4525-a343-2e4e27fe4563"
      },
      "execution_count": 21,
      "outputs": [
        {
          "output_type": "execute_result",
          "data": {
            "text/plain": [
              "Index([], dtype='object')"
            ]
          },
          "metadata": {},
          "execution_count": 21
        }
      ]
    },
    {
      "cell_type": "code",
      "source": [
        "df.isnull().sum()"
      ],
      "metadata": {
        "colab": {
          "base_uri": "https://localhost:8080/"
        },
        "id": "Id1k-QwHA5bL",
        "outputId": "e2ea34cb-1d95-4fde-a050-50cb7d9d0182"
      },
      "execution_count": 22,
      "outputs": [
        {
          "output_type": "execute_result",
          "data": {
            "text/plain": [
              "Country_code                     0\n",
              "Country                          0\n",
              "Total Library Size               0\n",
              "No. of TV Shows                  0\n",
              "No. of Movies                    0\n",
              "Cost Per Month - Basic ($)       0\n",
              "Cost Per Month - Standard ($)    0\n",
              "Cost Per Month - Premium ($)     0\n",
              "dtype: int64"
            ]
          },
          "metadata": {},
          "execution_count": 22
        }
      ]
    },
    {
      "cell_type": "markdown",
      "source": [
        "Unique Values"
      ],
      "metadata": {
        "id": "Ky1YA9ISBIC6"
      }
    },
    {
      "cell_type": "code",
      "source": [
        "df.Country.unique()"
      ],
      "metadata": {
        "colab": {
          "base_uri": "https://localhost:8080/"
        },
        "id": "6yeMSNeDAi_O",
        "outputId": "a2ee4616-9577-4105-d127-a3d57ec4c5cb"
      },
      "execution_count": 23,
      "outputs": [
        {
          "output_type": "execute_result",
          "data": {
            "text/plain": [
              "array(['Argentina', 'Australia', 'Austria', 'Belgium', 'Bolivia',\n",
              "       'Brazil', 'Bulgaria', 'Canada', 'Chile', 'Colombia', 'Costa Rica',\n",
              "       'Croatia', 'Czechia', 'Denmark', 'Ecuador', 'Estonia', 'Finland',\n",
              "       'France', 'Germany', 'Gibraltar', 'Greece', 'Guatemala',\n",
              "       'Honduras', 'Hong Kong', 'Hungary', 'Iceland', 'India',\n",
              "       'Indonesia', 'Ireland', 'Israel', 'Italy', 'Japan', 'Latvia',\n",
              "       'Liechtenstein', 'Lithuania', 'Malaysia', 'Mexico', 'Moldova',\n",
              "       'Monaco', 'Netherlands', 'New Zealand', 'Norway', 'Paraguay',\n",
              "       'Peru', 'Philippines', 'Poland', 'Portugal', 'Romania', 'Russia',\n",
              "       'San Marino', 'Singapore', 'Slovakia', 'South Africa',\n",
              "       'South Korea', 'Spain', 'Sweden', 'Switzerland', 'Taiwan',\n",
              "       'Thailand', 'Turkey', 'Ukraine', 'United Kingdom', 'United States',\n",
              "       'Uruguay', 'Venezuela'], dtype=object)"
            ]
          },
          "metadata": {},
          "execution_count": 23
        }
      ]
    },
    {
      "cell_type": "code",
      "source": [
        "df.Country.unique().size"
      ],
      "metadata": {
        "colab": {
          "base_uri": "https://localhost:8080/"
        },
        "id": "Ep2dWL1KBUG6",
        "outputId": "ba050cfd-bd7c-4de1-cd56-d9442e191fc8"
      },
      "execution_count": 25,
      "outputs": [
        {
          "output_type": "execute_result",
          "data": {
            "text/plain": [
              "65"
            ]
          },
          "metadata": {},
          "execution_count": 25
        }
      ]
    },
    {
      "cell_type": "markdown",
      "source": [
        "Data Visualization"
      ],
      "metadata": {
        "id": "UdHS7dVWBiXr"
      }
    },
    {
      "cell_type": "code",
      "source": [
        "plt.figure(figsize=(15,10))\n",
        "sns.barplot(x=\"Country\", y=\"Cost Per Month - Basic ($)\", data=df)\n",
        "plt.xticks(rotation= 90)\n",
        "plt.show()"
      ],
      "metadata": {
        "colab": {
          "base_uri": "https://localhost:8080/",
          "height": 676
        },
        "id": "AZLuzv4WBQzq",
        "outputId": "f23f6d66-536c-4841-d1dc-b831dc38bff0"
      },
      "execution_count": 50,
      "outputs": [
        {
          "output_type": "display_data",
          "data": {
            "text/plain": [
              "<Figure size 1080x720 with 1 Axes>"
            ],
            "image/png": "[encoded data removed]"
          },
          "metadata": {
            "needs_background": "light"
          }
        }
      ]
    },
    {
      "cell_type": "code",
      "source": [
        "plt.figure(figsize=(15,10))\n",
        "sns.scatterplot(x=\"Country\", y=\"Cost Per Month - Basic ($)\", data=df)\n",
        "plt.xticks(rotation= 90)\n",
        "plt.show()"
      ],
      "metadata": {
        "colab": {
          "base_uri": "https://localhost:8080/",
          "height": 676
        },
        "id": "Wx3D_SEJDqmy",
        "outputId": "46ea8e43-2327-4b57-b3a3-f874f9f88bea"
      },
      "execution_count": 53,
      "outputs": [
        {
          "output_type": "display_data",
          "data": {
            "text/plain": [
              "<Figure size 1080x720 with 1 Axes>"
            ],
            "image/png": "[encoded data removed]"
          },
          "metadata": {
            "needs_background": "light"
          }
        }
      ]
    },
    {
      "cell_type": "code",
      "source": [
        "plt.figure(figsize=(15,10))\n",
        "sns.barplot(x=\"Country\", y=\"Total Library Size\", data=df)\n",
        "plt.xticks(rotation= 90)\n",
        "plt.show()"
      ],
      "metadata": {
        "colab": {
          "base_uri": "https://localhost:8080/",
          "height": 676
        },
        "id": "PqpHVjDkFIxB",
        "outputId": "698ff260-19e0-4819-b699-a8c14d70f1c6"
      },
      "execution_count": 49,
      "outputs": [
        {
          "output_type": "display_data",
          "data": {
            "text/plain": [
              "<Figure size 1080x720 with 1 Axes>"
            ],
            "image/png": "[encoded data removed]"
          },
          "metadata": {
            "needs_background": "light"
          }
        }
      ]
    }
  ]
}